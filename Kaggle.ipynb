{
 "cells": [
  {
   "cell_type": "code",
   "execution_count": 9,
   "metadata": {},
   "outputs": [],
   "source": [
    "import numpy as np \n",
    "import pandas as pd \n",
    "import pandas as pd\n",
    "import numpy as np\n",
    "import re\n",
    "import torch\n",
    "from sklearn.model_selection import train_test_split\n",
    "from sklearn.preprocessing import LabelEncoder\n",
    "from torch.utils.data import Dataset, DataLoader\n",
    "from transformers import RobertaTokenizer, RobertaForSequenceClassification, get_scheduler\n",
    "from sklearn.feature_extraction.text import TfidfVectorizer\n",
    "from tqdm import tqdm"
   ]
  },
  {
   "cell_type": "code",
   "execution_count": null,
   "metadata": {},
   "outputs": [],
   "source": [
    "#Load datasets\n",
    "train_df = pd.read_csv('dataset/train.csv')\n",
    "test_df = pd.read_csv('dataset/test.csv')\n",
    "\n",
    "# Print the number of unique values in the Category column\n",
    "print(\"\\nNumber of unique values in Category column:\")\n",
    "print(train_df['Category'].nunique())\n",
    "\n",
    "# Print the number of unique values in the Misconception column\n",
    "print(\"\\nNumber of unique values in Misconception column:\")\n",
    "print(train_df['Misconception'].nunique())"
   ]
  },
  {
   "cell_type": "code",
   "execution_count": 20,
   "metadata": {},
   "outputs": [
    {
     "name": "stdout",
     "output_type": "stream",
     "text": [
      "Number of rows in train_df: 36696\n",
      "Number of rows in test_df: 3\n",
      "\n",
      "First few rows of train_df:\n",
      "   row_id  QuestionId                                       QuestionText  \\\n",
      "0       0       31772  What fraction of the shape is not shaded? Give...   \n",
      "1       1       31772  What fraction of the shape is not shaded? Give...   \n",
      "2       2       31772  What fraction of the shape is not shaded? Give...   \n",
      "3       3       31772  What fraction of the shape is not shaded? Give...   \n",
      "4       4       31772  What fraction of the shape is not shaded? Give...   \n",
      "\n",
      "           MC_Answer                                 StudentExplanation  \\\n",
      "0  \\( \\frac{1}{3} \\)                  0ne third is equal to tree nineth   \n",
      "1  \\( \\frac{1}{3} \\)  1 / 3 because 6 over 9 is 2 thirds and 1 third...   \n",
      "2  \\( \\frac{1}{3} \\)  1 3rd is half of 3 6th, so it is simplee to un...   \n",
      "3  \\( \\frac{1}{3} \\)        1 goes into everything and 3 goes into nine   \n",
      "4  \\( \\frac{1}{3} \\)                    1 out of every 3 isn't coloured   \n",
      "\n",
      "       Category Misconception  \n",
      "0  True_Correct           NaN  \n",
      "1  True_Correct           NaN  \n",
      "2  True_Neither           NaN  \n",
      "3  True_Neither           NaN  \n",
      "4  True_Correct           NaN  \n",
      "\n",
      "First few rows of test_df:\n",
      "   row_id  QuestionId                                       QuestionText  \\\n",
      "0   36696       31772  What fraction of the shape is not shaded? Give...   \n",
      "1   36697       31772  What fraction of the shape is not shaded? Give...   \n",
      "2   36698       32835                      Which number is the greatest?   \n",
      "\n",
      "           MC_Answer                                 StudentExplanation  \n",
      "0  \\( \\frac{1}{3} \\)  I think that 1/3 is the answer, as it's the si...  \n",
      "1  \\( \\frac{3}{6} \\)  i think this answer is because 3 triangles are...  \n",
      "2          \\( 6.2 \\)     because the 2 makes it higher than the others.  \n",
      "\n",
      "Null values in train_df:\n",
      "row_id                    0\n",
      "QuestionId                0\n",
      "QuestionText              0\n",
      "MC_Answer                 0\n",
      "StudentExplanation        0\n",
      "Category                  0\n",
      "Misconception         26836\n",
      "dtype: int64\n",
      "\n",
      "Null values in test_df:\n",
      "row_id                0\n",
      "QuestionId            0\n",
      "QuestionText          0\n",
      "MC_Answer             0\n",
      "StudentExplanation    0\n",
      "dtype: int64\n",
      "\n",
      "Number of unique values in Category column:\n",
      "6\n",
      "Imbalance ratio: 65.20704845814979\n",
      "Data type of Category column: object\n",
      "Data type of Misconception column: object\n",
      "Data type of QuestionText column: object\n",
      "Data type of StudentExplanation column: object\n",
      "\n",
      "Number of unique values in Misconception column:\n",
      "35\n"
     ]
    }
   ],
   "source": [
    "print(\"Number of rows in train_df:\", train_df.shape[0])\n",
    "print(\"Number of rows in test_df:\", test_df.shape[0])\n",
    "\n",
    "# Print the first few rows of train_df\n",
    "print(\"\\nFirst few rows of train_df:\")\n",
    "print(train_df.head())\n",
    "\n",
    "# Print the first few rows of test_df\n",
    "print(\"\\nFirst few rows of test_df:\")\n",
    "print(test_df.head())\n",
    "\n",
    "# Print if any rows are null \n",
    "print(\"\\nNull values in train_df:\")\n",
    "print(train_df.isnull().sum())\n",
    "\n",
    "print(\"\\nNull values in test_df:\")\n",
    "print(test_df.isnull().sum())\n",
    "\n",
    "# Print the number of unique values in the Category column\n",
    "print(\"\\nNumber of unique values in Category column:\")\n",
    "print(train_df['Category'].nunique())\n",
    "\n",
    "class_counts = train_df['Category'].value_counts()\n",
    "class_percentages = train_df['Category'].value_counts(normalize=True) * 100\n",
    "\n",
    "majority_class_count = class_counts.max()\n",
    "minority_class_count = class_counts.min()\n",
    "imbalance_ratio = majority_class_count / minority_class_count\n",
    "print(\"Imbalance ratio:\", imbalance_ratio)\n",
    "\n",
    "print(\"Data type of Category column:\", train_df['Category'].dtype)\n",
    "print(\"Data type of Misconception column:\", train_df['Misconception'].dtype)\n",
    "print(\"Data type of QuestionText column:\", train_df['QuestionText'].dtype)\n",
    "print(\"Data type of StudentExplanation column:\", train_df['StudentExplanation'].dtype)\n",
    "\n",
    "# Print the number of unique values in the Misconception column\n",
    "print(\"\\nNumber of unique values in Misconception column:\")\n",
    "print(train_df['Misconception'].nunique())"
   ]
  },
  {
   "cell_type": "code",
   "execution_count": null,
   "metadata": {},
   "outputs": [],
   "source": []
  },
  {
   "cell_type": "code",
   "execution_count": null,
   "metadata": {},
   "outputs": [],
   "source": []
  },
  {
   "cell_type": "code",
   "execution_count": null,
   "metadata": {},
   "outputs": [],
   "source": []
  },
  {
   "cell_type": "code",
   "execution_count": null,
   "metadata": {},
   "outputs": [],
   "source": []
  },
  {
   "cell_type": "code",
   "execution_count": null,
   "metadata": {},
   "outputs": [],
   "source": []
  },
  {
   "cell_type": "code",
   "execution_count": null,
   "metadata": {},
   "outputs": [],
   "source": []
  },
  {
   "cell_type": "code",
   "execution_count": null,
   "metadata": {},
   "outputs": [],
   "source": []
  },
  {
   "cell_type": "code",
   "execution_count": null,
   "metadata": {},
   "outputs": [],
   "source": []
  },
  {
   "cell_type": "code",
   "execution_count": null,
   "metadata": {},
   "outputs": [],
   "source": []
  },
  {
   "cell_type": "code",
   "execution_count": null,
   "metadata": {},
   "outputs": [],
   "source": []
  },
  {
   "cell_type": "code",
   "execution_count": null,
   "metadata": {},
   "outputs": [],
   "source": []
  },
  {
   "cell_type": "code",
   "execution_count": 21,
   "metadata": {
    "vscode": {
     "languageId": "ruby"
    }
   },
   "outputs": [
    {
     "name": "stdout",
     "output_type": "stream",
     "text": [
      "Training data shape: (29356, 5000)\n",
      "Validation data shape: (7340, 5000)\n",
      "Labels shape: (29356,)\n"
     ]
    }
   ],
   "source": [
    "# BEGIN: Load datasets\n",
    "train_df = pd.read_csv('dataset/train.csv')\n",
    "test_df = pd.read_csv('dataset/test.csv')\n",
    "# END: Load datasets\n",
    "# BEGIN: Analyze misconceptions\n",
    "# Preprocessing function\n",
    "def preprocess_data(df):\n",
    "    # Fill missing values in StudentExplaination and Misconception with empty strings\n",
    "    df['StudentExplaination'] = df['StudentExplanation'].fillna(\"\")\n",
    "    df['Misconception'] = df['Misconception'].fillna(\"NA\")\n",
    "    \n",
    "    # Combine QuestionText and StudentExplaination for feature extraction\n",
    "    df['CombinedText'] = df['QuestionText'] + \" \" + df['StudentExplaination']\n",
    "    \n",
    "    return df\n",
    "\n",
    "# Preprocess train and test data\n",
    "train_df = preprocess_data(train_df)\n",
    "#test_df = preprocess_data(test_df)\n",
    "\n",
    "# Feature extraction using TF-IDF\n",
    "vectorizer = TfidfVectorizer(max_features=5000, stop_words='english')\n",
    "X_train = vectorizer.fit_transform(train_df['CombinedText']).toarray()\n",
    "#X_test = vectorizer.transform(test_df['CombinedText']).toarray()\n",
    "\n",
    "# Encode the Category column as the label\n",
    "label_encoder = LabelEncoder()\n",
    "y_train = label_encoder.fit_transform(train_df['Category'])\n",
    "#y_test = label_encoder.transform(test_df['Category'])\n",
    "\n",
    "# Misconception column for generating misconceptions\n",
    "misconceptions_train = train_df['Misconception']\n",
    "\n",
    "#misconceptions_test = test_df['Misconception']\n",
    "\n",
    "# Split train data into training and validation sets\n",
    "X_train, X_val, y_train, y_val, misconceptions_train, misconceptions_val = train_test_split(\n",
    "    X_train, y_train, misconceptions_train, test_size=0.2, random_state=42\n",
    ")\n",
    "\n",
    "# Output the shapes of the datasets\n",
    "print(\"Training data shape:\", X_train.shape)\n",
    "print(\"Validation data shape:\", X_val.shape)\n",
    "#print(\"Test data shape:\", X_test.shape)\n",
    "print(\"Labels shape:\", y_train.shape)"
   ]
  },
  {
   "cell_type": "code",
   "execution_count": null,
   "metadata": {
    "vscode": {
     "languageId": "ruby"
    }
   },
   "outputs": [],
   "source": [
    "# Shrijan is working here "
   ]
  },
  {
   "cell_type": "code",
   "execution_count": null,
   "metadata": {
    "vscode": {
     "languageId": "ruby"
    }
   },
   "outputs": [],
   "source": []
  }
 ],
 "metadata": {
  "kernelspec": {
   "display_name": "mapMath",
   "language": "python",
   "name": "python3"
  },
  "language_info": {
   "codemirror_mode": {
    "name": "ipython",
    "version": 3
   },
   "file_extension": ".py",
   "mimetype": "text/x-python",
   "name": "python",
   "nbconvert_exporter": "python",
   "pygments_lexer": "ipython3",
   "version": "3.12.0"
  }
 },
 "nbformat": 4,
 "nbformat_minor": 2
}
