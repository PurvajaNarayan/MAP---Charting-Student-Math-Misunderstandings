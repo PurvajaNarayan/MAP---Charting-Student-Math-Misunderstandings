{
 "cells": [
  {
   "cell_type": "code",
   "execution_count": 9,
   "metadata": {},
   "outputs": [],
   "source": [
    "import numpy as np \n",
    "import pandas as pd \n",
    "import pandas as pd\n",
    "import numpy as np\n",
    "import re\n",
    "import torch\n",
    "from sklearn.model_selection import train_test_split\n",
    "from sklearn.preprocessing import LabelEncoder\n",
    "from torch.utils.data import Dataset, DataLoader\n",
    "from transformers import RobertaTokenizer, RobertaForSequenceClassification, get_scheduler\n",
    "from sklearn.feature_extraction.text import TfidfVectorizer\n",
    "from tqdm import tqdm"
   ]
  },
  {
   "cell_type": "code",
   "execution_count": 12,
   "metadata": {
    "vscode": {
     "languageId": "ruby"
    }
   },
   "outputs": [
    {
     "name": "stdout",
     "output_type": "stream",
     "text": [
      "Training data shape: (29356, 5000)\n",
      "Validation data shape: (7340, 5000)\n",
      "Labels shape: (29356,)\n"
     ]
    }
   ],
   "source": [
    "# BEGIN: Load datasets\n",
    "train_df = pd.read_csv('dataset/train.csv')\n",
    "test_df = pd.read_csv('dataset/test.csv')\n",
    "# END: Load datasets\n",
    "# BEGIN: Analyze misconceptions\n",
    "# Preprocessing function\n",
    "def preprocess_data(df):\n",
    "    # Fill missing values in StudentExplaination and Misconception with empty strings\n",
    "    df['StudentExplaination'] = df['StudentExplanation'].fillna(\"\")\n",
    "    df['Misconception'] = df['Misconception'].fillna(\"NA\")\n",
    "    \n",
    "    # Combine QuestionText and StudentExplaination for feature extraction\n",
    "    df['CombinedText'] = df['QuestionText'] + \" \" + df['StudentExplaination']\n",
    "    \n",
    "    return df\n",
    "\n",
    "# Preprocess train and test data\n",
    "train_df = preprocess_data(train_df)\n",
    "#test_df = preprocess_data(test_df)\n",
    "\n",
    "# Feature extraction using TF-IDF\n",
    "vectorizer = TfidfVectorizer(max_features=5000, stop_words='english')\n",
    "X_train = vectorizer.fit_transform(train_df['CombinedText']).toarray()\n",
    "#X_test = vectorizer.transform(test_df['CombinedText']).toarray()\n",
    "\n",
    "# Encode the Category column as the label\n",
    "label_encoder = LabelEncoder()\n",
    "y_train = label_encoder.fit_transform(train_df['Category'])\n",
    "#y_test = label_encoder.transform(test_df['Category'])\n",
    "\n",
    "# Misconception column for generating misconceptions\n",
    "misconceptions_train = train_df['Misconception']\n",
    "\n",
    "#misconceptions_test = test_df['Misconception']\n",
    "\n",
    "# Split train data into training and validation sets\n",
    "X_train, X_val, y_train, y_val, misconceptions_train, misconceptions_val = train_test_split(\n",
    "    X_train, y_train, misconceptions_train, test_size=0.2, random_state=42\n",
    ")\n",
    "\n",
    "# Output the shapes of the datasets\n",
    "print(\"Training data shape:\", X_train.shape)\n",
    "print(\"Validation data shape:\", X_val.shape)\n",
    "#print(\"Test data shape:\", X_test.shape)\n",
    "print(\"Labels shape:\", y_train.shape)"
   ]
  },
  {
   "cell_type": "code",
   "execution_count": null,
   "metadata": {
    "vscode": {
     "languageId": "ruby"
    }
   },
   "outputs": [],
   "source": []
  }
 ],
 "metadata": {
  "kernelspec": {
   "display_name": "mapMath",
   "language": "python",
   "name": "python3"
  },
  "language_info": {
   "codemirror_mode": {
    "name": "ipython",
    "version": 3
   },
   "file_extension": ".py",
   "mimetype": "text/x-python",
   "name": "python",
   "nbconvert_exporter": "python",
   "pygments_lexer": "ipython3",
   "version": "3.12.0"
  }
 },
 "nbformat": 4,
 "nbformat_minor": 2
}
